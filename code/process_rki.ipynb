{
 "cells": [
  {
   "cell_type": "code",
   "execution_count": 1,
   "id": "burning-orleans",
   "metadata": {},
   "outputs": [],
   "source": [
    "import pandas as pd\n",
    "from pathlib import Path"
   ]
  },
  {
   "cell_type": "code",
   "execution_count": 2,
   "id": "welcome-cheat",
   "metadata": {},
   "outputs": [],
   "source": [
    "abbreviations = ['DE', 'DE-BW', 'DE-BY', 'DE-HB', 'DE-HH', 'DE-HE', \n",
    "                 'DE-NI', 'DE-NW', 'DE-RP', 'DE-SL', 'DE-SH', 'DE-BB', \n",
    "                 'DE-MV', 'DE-SN', 'DE-ST', 'DE-TH', 'DE-BE']\n",
    "\n",
    "regions = ['Bundesgebiet', 'Baden-Württemberg', 'Bayern', 'Bremen', 'Hamburg', 'Hessen',\n",
    "           'Niedersachsen', 'Nordrhein-Westfalen', 'Rheinland-Pfalz', 'Saarland', 'Schleswig-Holstein', 'Brandenburg', \n",
    "           'Mecklenburg-Vorpommern', 'Sachsen', 'Sachsen-Anhalt', 'Thüringen', 'Berlin']\n",
    "\n",
    "# dictionary to map region names to abbreviations\n",
    "region_dict = dict(zip(regions, abbreviations))"
   ]
  },
  {
   "cell_type": "code",
   "execution_count": 3,
   "id": "periodic-plasma",
   "metadata": {},
   "outputs": [],
   "source": [
    "path = Path('../data-processed_retrospective/RKI-weekly_report/Check/')\n",
    "\n",
    "files = [f.name for f in path.glob('*.csv')]"
   ]
  },
  {
   "cell_type": "code",
   "execution_count": 4,
   "id": "executed-inspection",
   "metadata": {},
   "outputs": [],
   "source": [
    "def process_file(filename):\n",
    "    date = pd.to_datetime(filename[:10]).date()\n",
    "    \n",
    "    # import the csv file as a dataframe\n",
    "    df = pd.read_csv(path/filename, sep=',', parse_dates=[\"Datum\"])\n",
    "    \n",
    "    # drop the most recent two dates and dates older than 28 days\n",
    "    df = df[df.Datum.dt.date.between(date - pd.Timedelta(days = 28), date)]\n",
    "\n",
    "    # rename locations according to submission guidelines\n",
    "    df.Bundesland.replace(region_dict, inplace = True)\n",
    "\n",
    "    # drop unnecessary columns\n",
    "    df.drop(columns = [\"Bundesland_Id\",\"Altersgruppe\",\"Bevoelkerung\",\"fixierte_7T_Hospitalisierung_Faelle\", \n",
    "                       \"aktualisierte_7T_Hospitalisierung_Faelle\",\"fixierte_7T_Hospitalisierung_Inzidenz\",\n",
    "                       \"aktualisierte_7T_Hospitalisierung_Inzidenz\",\"PS_adjustierte_7T_Hospitalisierung_Inzidenz\",\n",
    "                       \"UG_PI_adjustierte_7T_Hospitalisierung_Inzidenz\",\"OG_PI_adjustierte_7T_Hospitalisierung_Inzidenz\"], \n",
    "            inplace = True)\n",
    "\n",
    "    df.rename(columns = {'Datum': 'target_end_date', 'Bundesland': 'location'}, inplace = True)\n",
    "\n",
    "    # rearrange in long format\n",
    "    df = pd.melt(df, id_vars = ['target_end_date', 'location'], var_name = 'quantile')\n",
    "\n",
    "    # add column 'quantile'\n",
    "    df['quantile'].replace({'PS_adjustierte_7T_Hospitalisierung_Faelle': '0.5',\n",
    "                            'UG_PI_adjustierte_7T_Hospitalisierung_Faelle': '0.025',\n",
    "                            'OG_PI_adjustierte_7T_Hospitalisierung_Faelle': '0.975'},\n",
    "                           inplace = True)\n",
    "\n",
    "    # add column 'type'\n",
    "    df['type'] = 'quantile'\n",
    "    #df.loc[df['quantile'] == '', 'type'] = 'mean'\n",
    "\n",
    "    # add necessary columns\n",
    "    df[\"age_group\"] = \"00+\"\n",
    "    df[\"forecast_date\"] = date\n",
    "    df[\"pathogen\"] = \"COVID-19\"\n",
    "\n",
    "    # calculate the values of the \"target\" column\n",
    "    df[\"forecast_date\"] = pd.to_datetime(df[\"forecast_date\"])\n",
    "    df[\"target\"] = (df['target_end_date'] - df['forecast_date']).dt.days\n",
    "    df[\"target\"] = df[\"target\"].astype(str) + \" day ahead inc hosp\"\n",
    "    \n",
    "    # also use point estimate as \"mean\" prediction\n",
    "    df_mean = df[df[\"quantile\"] == '0.5'].copy()\n",
    "    df_mean.type = 'mean'\n",
    "    df_mean[\"quantile\"] = ''\n",
    "    \n",
    "    df = pd.concat([df, df_mean])\n",
    "\n",
    "    # sort the columns\n",
    "    df = df[[\"location\",\"age_group\", \"forecast_date\", \"target_end_date\", \"target\", \"type\",\"quantile\", \"value\", \"pathogen\"]]\n",
    "\n",
    "    # export to csv\n",
    "    df.to_csv(path/\"processed\"/f\"{date}-RKI-weekly_report.csv\", index = False)"
   ]
  },
  {
   "cell_type": "code",
   "execution_count": 5,
   "id": "adjusted-marker",
   "metadata": {},
   "outputs": [],
   "source": [
    "for f in files:\n",
    "    process_file(f)"
   ]
  }
 ],
 "metadata": {
  "kernelspec": {
   "display_name": "Python 3",
   "language": "python",
   "name": "python3"
  },
  "language_info": {
   "codemirror_mode": {
    "name": "ipython",
    "version": 3
   },
   "file_extension": ".py",
   "mimetype": "text/x-python",
   "name": "python",
   "nbconvert_exporter": "python",
   "pygments_lexer": "ipython3",
   "version": "3.8.8"
  }
 },
 "nbformat": 4,
 "nbformat_minor": 5
}
